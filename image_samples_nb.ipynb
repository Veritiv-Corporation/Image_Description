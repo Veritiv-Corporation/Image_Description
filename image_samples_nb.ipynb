{
 "cells": [
  {
   "cell_type": "code",
   "execution_count": 1,
   "metadata": {},
   "outputs": [],
   "source": [
    "sample_pack=[\"https://105103-veritiv-prod.s3.amazonaws.com/Damroot/xLg/10071/IMAGE_20044788_Pic%201.png\", \"https://105103-veritiv-prod.s3.amazonaws.com/Damroot/xLg/10001/IMAGE_10769391_Pic%201.png\", \"https://105103-veritiv-prod.s3.amazonaws.com/Damroot/xLg/10115/IMAGE_10771117_Pic%201.png\"]\n",
    "pack_tit=[\"Scotch® 311+ Clear High Tack Box Sealing Tape (48 mm. x 914 m., 6 Rolls/Case)\",\"TUFflex® Natural Premium Bubble Mailer (9.5 in. x 14 in., 100 Mailers/CS)\",\"TUFflex® 63 Ga. Cast Yellow Premium Stretch Film (20 in. x 5000 ft., 50 RL/SK)\"]\n",
    "sample_fs=[\"https://105103-veritiv-prod.s3.amazonaws.com/Damroot/xLg/10126/IMAGE_11141927_Pic%201.png\", \"https://105103-veritiv-prod.s3.amazonaws.com/Damroot/xLg/10120/IMAGE_20051467_Pic%201.png\", \"https://105103-veritiv-prod.s3.amazonaws.com/Damroot/xLg/10114/IMAGE_10747123_Pic%201.png\"]\n",
    "fs_tit=[\"PURELL® Professional Surface Disinfecting Wipes (110 Count Canister, 6/Case)\",\"Kimberly-Clark Professional™ ICON™ Cherry Blossom Dispenser (11.5 in. x 7.5 in. x 3.98 in., 1 Dispenser/Case)\",\"Reliable Brand® Translucent Black Electronic Touch Free Single Roll Towel Dispenser (14.4375 in. x 11.75 in. x 9.125 in., 1 Dispenser/CS)\"]\n",
    "sample_print=[\"https://105103-veritiv-prod.s3.amazonaws.com/Damroot/xLg/10126/IMAGE_10989286_Pic%201.png\", \"https://105103-veritiv-prod.s3.amazonaws.com/Damroot/xLg/10111/IMAGE_11107163_Pic%201.png\"]\n",
    "pri_tit=[\"3 3/8x2 1/3 96 Bright White Showcase™ Badge Label 100 SH/BX 1000/CT V03514\",\"6 3/4 Remittance Veritiv Seville® 24# White Wove OSSS 500/Hard BX 3000/CT V04932\"]\n",
    "\n",
    "sree_examples=[r\"C:\\Users\\liyenga\\OneDrive - Veritiv Corp\\Documents\\Veritiv Projects\\Image_description\\images\\c:\\Users\\liyenga\\OneDrive - Veritiv Corp\\Documents\\Veritiv Projects\\Image_description\\images\\img1.png\", r\"C:\\Users\\liyenga\\OneDrive - Veritiv Corp\\Documents\\Veritiv Projects\\Image_description\\imagesc:\\Users\\liyenga\\OneDrive - Veritiv Corp\\Documents\\Veritiv Projects\\Image_description\\images\\img2.png\", r\"C:\\Users\\liyenga\\OneDrive - Veritiv Corp\\Documents\\Veritiv Projects\\Image_description\\images\\c:\\Users\\liyenga\\OneDrive - Veritiv Corp\\Documents\\Veritiv Projects\\Image_description\\images\\img3.png\", r\"C:\\Users\\liyenga\\OneDrive - Veritiv Corp\\Documents\\Veritiv Projects\\Image_description\\images\\img4\"]\n",
    "example_tit=[\"Oxivir® Clear Diversey Disinfectant (32 oz.)\", \"Dart® Hinged White Food Container (9 in.)\", \"Berry White Plastic Container (85 oz.)\", \"TUFflex® Clear Cushioning Bubble Wrap (48 in. x 750 ft.)\"]"
   ]
  },
  {
   "cell_type": "markdown",
   "metadata": {},
   "source": [
    "## Gemini"
   ]
  },
  {
   "cell_type": "code",
   "execution_count": 1,
   "metadata": {},
   "outputs": [
    {
     "ename": "NameError",
     "evalue": "name 'sample_pack' is not defined",
     "output_type": "error",
     "traceback": [
      "\u001b[1;31m---------------------------------------------------------------------------\u001b[0m",
      "\u001b[1;31mNameError\u001b[0m                                 Traceback (most recent call last)",
      "Cell \u001b[1;32mIn[1], line 3\u001b[0m\n\u001b[0;32m      1\u001b[0m \u001b[38;5;28;01mimport\u001b[39;00m \u001b[38;5;21;01mpandas\u001b[39;00m \u001b[38;5;28;01mas\u001b[39;00m \u001b[38;5;21;01mpd\u001b[39;00m\n\u001b[0;32m      2\u001b[0m \u001b[38;5;28;01mfrom\u001b[39;00m \u001b[38;5;21;01mimg_desc_functions\u001b[39;00m \u001b[38;5;28;01mimport\u001b[39;00m gemini_call\n\u001b[1;32m----> 3\u001b[0m pack_results \u001b[38;5;241m=\u001b[39m gemini_call(\u001b[43msample_pack\u001b[49m,pack_tit)\n\u001b[0;32m      5\u001b[0m df1 \u001b[38;5;241m=\u001b[39m pd\u001b[38;5;241m.\u001b[39mDataFrame({\n\u001b[0;32m      6\u001b[0m     \u001b[38;5;124m'\u001b[39m\u001b[38;5;124mImage\u001b[39m\u001b[38;5;124m'\u001b[39m: sample_pack,\n\u001b[0;32m      7\u001b[0m     \u001b[38;5;124m'\u001b[39m\u001b[38;5;124mTitle\u001b[39m\u001b[38;5;124m'\u001b[39m: pack_tit,\n\u001b[0;32m      8\u001b[0m     \u001b[38;5;124m'\u001b[39m\u001b[38;5;124mDescription\u001b[39m\u001b[38;5;124m'\u001b[39m: pack_results\n\u001b[0;32m      9\u001b[0m })\n\u001b[0;32m     11\u001b[0m fs_results \u001b[38;5;241m=\u001b[39m gemini_call(sample_fs,fs_tit)\n",
      "\u001b[1;31mNameError\u001b[0m: name 'sample_pack' is not defined"
     ]
    }
   ],
   "source": [
    "import pandas as pd\n",
    "from img_desc_functions import gemini_call\n",
    "pack_results = gemini_call(sample_pack,pack_tit)\n",
    "\n",
    "df1 = pd.DataFrame({\n",
    "    'Image': sample_pack,\n",
    "    'Title': pack_tit,\n",
    "    'Description': pack_results\n",
    "})\n",
    "\n",
    "fs_results = gemini_call(sample_fs,fs_tit)\n",
    "\n",
    "df2 = pd.DataFrame({\n",
    "    'Image': sample_fs,\n",
    "    'Title': fs_tit,\n",
    "    'Description': fs_results\n",
    "})\n",
    "\n",
    "pri_results = gemini_call(sample_print,pri_tit)\n",
    "\n",
    "df3 = pd.DataFrame({\n",
    "    'Image': sample_print,\n",
    "    'Title': pri_tit,\n",
    "    'Description': pri_results\n",
    "})\n",
    "\n",
    "result = pd.concat([df1, df2, df3], ignore_index=True)\n"
   ]
  },
  {
   "cell_type": "code",
   "execution_count": 10,
   "metadata": {},
   "outputs": [],
   "source": [
    "result.to_csv(\"gemini_result_img_tit.csv\")"
   ]
  },
  {
   "cell_type": "code",
   "execution_count": 2,
   "metadata": {},
   "outputs": [
    {
     "name": "stderr",
     "output_type": "stream",
     "text": [
      "C:\\Users\\liyenga\\AppData\\Local\\Packages\\PythonSoftwareFoundation.Python.3.11_qbz5n2kfra8p0\\LocalCache\\local-packages\\Python311\\site-packages\\urllib3\\connectionpool.py:1064: InsecureRequestWarning: Unverified HTTPS request is being made to host '105103-veritiv-prod.s3.amazonaws.com'. Adding certificate verification is strongly advised. See: https://urllib3.readthedocs.io/en/1.26.x/advanced-usage.html#ssl-warnings\n",
      "  warnings.warn(\n",
      "C:\\Users\\liyenga\\AppData\\Local\\Packages\\PythonSoftwareFoundation.Python.3.11_qbz5n2kfra8p0\\LocalCache\\local-packages\\Python311\\site-packages\\langchain_core\\_api\\deprecation.py:139: LangChainDeprecationWarning: The class `LLMChain` was deprecated in LangChain 0.1.17 and will be removed in 0.3.0. Use RunnableSequence, e.g., `prompt | llm` instead.\n",
      "  warn_deprecated(\n",
      "C:\\Users\\liyenga\\AppData\\Local\\Packages\\PythonSoftwareFoundation.Python.3.11_qbz5n2kfra8p0\\LocalCache\\local-packages\\Python311\\site-packages\\urllib3\\connectionpool.py:1064: InsecureRequestWarning: Unverified HTTPS request is being made to host '105103-veritiv-prod.s3.amazonaws.com'. Adding certificate verification is strongly advised. See: https://urllib3.readthedocs.io/en/1.26.x/advanced-usage.html#ssl-warnings\n",
      "  warnings.warn(\n",
      "C:\\Users\\liyenga\\AppData\\Local\\Packages\\PythonSoftwareFoundation.Python.3.11_qbz5n2kfra8p0\\LocalCache\\local-packages\\Python311\\site-packages\\urllib3\\connectionpool.py:1064: InsecureRequestWarning: Unverified HTTPS request is being made to host '105103-veritiv-prod.s3.amazonaws.com'. Adding certificate verification is strongly advised. See: https://urllib3.readthedocs.io/en/1.26.x/advanced-usage.html#ssl-warnings\n",
      "  warnings.warn(\n"
     ]
    }
   ],
   "source": [
    "from img_desc_functions import azure_call\n",
    "import pandas as pd\n",
    "\n",
    "pack_results = azure_call(sample_pack,pack_tit)\n",
    "\n",
    "df1 = pd.DataFrame({\n",
    "    'Image': sample_pack,\n",
    "    'Title': pack_tit,\n",
    "    'Description': pack_results\n",
    "})\n",
    "\n",
    "fs_results = azure_call(sample_fs,fs_tit)\n",
    "\n",
    "df2 = pd.DataFrame({\n",
    "    'Image': sample_fs,\n",
    "    'Title': fs_tit,\n",
    "    'Description': fs_results\n",
    "})\n",
    "\n",
    "pri_results = azure_call(sample_print,pri_tit)\n",
    "\n",
    "df3 = pd.DataFrame({\n",
    "    'Image': sample_print,\n",
    "    'Title': pri_tit,\n",
    "    'Description': pri_results\n",
    "})\n",
    "\n",
    "result = pd.concat([df1, df2, df3], ignore_index=True)\n",
    "result.to_csv(\"azure_img_only.csv\")"
   ]
  },
  {
   "cell_type": "code",
   "execution_count": null,
   "metadata": {},
   "outputs": [],
   "source": [
    "def encode_image_for_api(image_path_or_file):\n",
    "    if isinstance(image_path_or_file, str):\n",
    "        # It's a file path\n",
    "        with open(image_path_or_file, \"rb\") as image_file:\n",
    "            encoded_image = base64.b64encode(image_file.read()).decode('utf-8')\n",
    "    else:\n",
    "        # It's an uploaded file\n",
    "        encoded_image = base64.b64encode(image_path_or_file.read()).decode('utf-8')\n",
    "   \n",
    "    return encoded_image\n",
    " \n",
    "encoded_image = encode_image_for_api('C:\\\\Users\\\\sprak01\\\\OneDrive - Veritiv Corp\\\\SITTUN\\\\Custom Product Description\\\\Copy Tool Test\\\\IMAGE_10771117_Pic 1.png')\n",
    " \n",
    "message = HumanMessage(\n",
    "    content=[\n",
    "        {\"type\": \"text\", \"text\": f\"You are an expert at writing **precise** and **concise** alt-text for images on B2B e-commerce websites. Your task is to write a one-line alt-text for the given image that **accurately and clearly describes** what is visible in the image.\"},\n",
    "        {\n",
    "            \"type\": \"image_url\",\n",
    "            \"image_url\": {\"url\": f\"data:image/jpeg;base64,{encoded_image}\"}\n",
    "        }\n",
    "    ]\n",
    ")\n",
    " \n",
    "llm = AzureChatOpenAI(azure_deployment=deployment_name)\n",
    " \n",
    "response = llm.invoke([message])\n",
    "print(response.content)\n",
    " "
   ]
  }
 ],
 "metadata": {
  "kernelspec": {
   "display_name": "Python 3",
   "language": "python",
   "name": "python3"
  },
  "language_info": {
   "codemirror_mode": {
    "name": "ipython",
    "version": 3
   },
   "file_extension": ".py",
   "mimetype": "text/x-python",
   "name": "python",
   "nbconvert_exporter": "python",
   "pygments_lexer": "ipython3",
   "version": "3.11.9"
  }
 },
 "nbformat": 4,
 "nbformat_minor": 2
}
