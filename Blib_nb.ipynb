{
 "cells": [
  {
   "cell_type": "code",
   "execution_count": 1,
   "metadata": {},
   "outputs": [],
   "source": [
    "sample_pack=[\"https://105103-veritiv-prod.s3.amazonaws.com/Damroot/xLg/10071/IMAGE_20044788_Pic%201.png\", \"https://105103-veritiv-prod.s3.amazonaws.com/Damroot/xLg/10001/IMAGE_10769391_Pic%201.png\", \"https://105103-veritiv-prod.s3.amazonaws.com/Damroot/xLg/10115/IMAGE_10771117_Pic%201.png\"]\n",
    "pack_tit=[\"Scotch® 311+ Clear High Tack Box Sealing Tape (48 mm. x 914 m., 6 Rolls/Case)\",\"TUFflex® Natural Premium Bubble Mailer (9.5 in. x 14 in., 100 Mailers/CS)\",\"TUFflex® 63 Ga. Cast Yellow Premium Stretch Film (20 in. x 5000 ft., 50 RL/SK)\"]\n",
    "sample_fs=[\"https://105103-veritiv-prod.s3.amazonaws.com/Damroot/xLg/10126/IMAGE_11141927_Pic%201.png\", \"https://105103-veritiv-prod.s3.amazonaws.com/Damroot/xLg/10120/IMAGE_20051467_Pic%201.png\", \"https://105103-veritiv-prod.s3.amazonaws.com/Damroot/xLg/10114/IMAGE_10747123_Pic%201.png\"]\n",
    "fs_tit=[\"PURELL® Professional Surface Disinfecting Wipes (110 Count Canister, 6/Case)\",\"Kimberly-Clark Professional™ ICON™ Cherry Blossom Dispenser (11.5 in. x 7.5 in. x 3.98 in., 1 Dispenser/Case)\",\"Reliable Brand® Translucent Black Electronic Touch Free Single Roll Towel Dispenser (14.4375 in. x 11.75 in. x 9.125 in., 1 Dispenser/CS)\"]\n",
    "sample_print=[\"https://105103-veritiv-prod.s3.amazonaws.com/Damroot/xLg/10126/IMAGE_10989286_Pic%201.png\", \"https://105103-veritiv-prod.s3.amazonaws.com/Damroot/xLg/10111/IMAGE_11107163_Pic%201.png\"]\n",
    "pri_tit=[\"3 3/8x2 1/3 96 Bright White Showcase™ Badge Label 100 SH/BX 1000/CT V03514\",\"6 3/4 Remittance Veritiv Seville® 24# White Wove OSSS 500/Hard BX 3000/CT V04932\"]\n",
    "\n",
    "sree_examples=[r\"C:\\Users\\liyenga\\OneDrive - Veritiv Corp\\Documents\\Veritiv Projects\\Image_description\\images\\c:\\Users\\liyenga\\OneDrive - Veritiv Corp\\Documents\\Veritiv Projects\\Image_description\\images\\img1.png\", r\"C:\\Users\\liyenga\\OneDrive - Veritiv Corp\\Documents\\Veritiv Projects\\Image_description\\imagesc:\\Users\\liyenga\\OneDrive - Veritiv Corp\\Documents\\Veritiv Projects\\Image_description\\images\\img2.png\", r\"C:\\Users\\liyenga\\OneDrive - Veritiv Corp\\Documents\\Veritiv Projects\\Image_description\\images\\c:\\Users\\liyenga\\OneDrive - Veritiv Corp\\Documents\\Veritiv Projects\\Image_description\\images\\img3.png\", r\"C:\\Users\\liyenga\\OneDrive - Veritiv Corp\\Documents\\Veritiv Projects\\Image_description\\images\\img4\"]\n",
    "example_tit=[\"Oxivir® Clear Diversey Disinfectant (32 oz.)\", \"Dart® Hinged White Food Container (9 in.)\", \"Berry White Plastic Container (85 oz.)\", \"TUFflex® Clear Cushioning Bubble Wrap (48 in. x 750 ft.)\"]"
   ]
  },
  {
   "cell_type": "code",
   "execution_count": 2,
   "metadata": {},
   "outputs": [],
   "source": [
    "sample_ove=sample_pack+sample_fs+sample_print\n",
    "sam_tit_ove=pack_tit+fs_tit+pri_tit"
   ]
  },
  {
   "cell_type": "code",
   "execution_count": 3,
   "metadata": {},
   "outputs": [
    {
     "data": {
      "application/vnd.jupyter.widget-view+json": {
       "model_id": "cdee687dc6ec47078903c1fe2d4e7948",
       "version_major": 2,
       "version_minor": 0
      },
      "text/plain": [
       "Loading checkpoint shards:   0%|          | 0/2 [00:00<?, ?it/s]"
      ]
     },
     "metadata": {},
     "output_type": "display_data"
    },
    {
     "name": "stderr",
     "output_type": "stream",
     "text": [
      "C:\\Users\\liyenga\\AppData\\Local\\Packages\\PythonSoftwareFoundation.Python.3.11_qbz5n2kfra8p0\\LocalCache\\local-packages\\Python311\\site-packages\\urllib3\\connectionpool.py:1064: InsecureRequestWarning: Unverified HTTPS request is being made to host '105103-veritiv-prod.s3.amazonaws.com'. Adding certificate verification is strongly advised. See: https://urllib3.readthedocs.io/en/1.26.x/advanced-usage.html#ssl-warnings\n",
      "  warnings.warn(\n",
      "C:\\Users\\liyenga\\AppData\\Local\\Packages\\PythonSoftwareFoundation.Python.3.11_qbz5n2kfra8p0\\LocalCache\\local-packages\\Python311\\site-packages\\urllib3\\connectionpool.py:1064: InsecureRequestWarning: Unverified HTTPS request is being made to host '105103-veritiv-prod.s3.amazonaws.com'. Adding certificate verification is strongly advised. See: https://urllib3.readthedocs.io/en/1.26.x/advanced-usage.html#ssl-warnings\n",
      "  warnings.warn(\n",
      "C:\\Users\\liyenga\\AppData\\Local\\Packages\\PythonSoftwareFoundation.Python.3.11_qbz5n2kfra8p0\\LocalCache\\local-packages\\Python311\\site-packages\\urllib3\\connectionpool.py:1064: InsecureRequestWarning: Unverified HTTPS request is being made to host '105103-veritiv-prod.s3.amazonaws.com'. Adding certificate verification is strongly advised. See: https://urllib3.readthedocs.io/en/1.26.x/advanced-usage.html#ssl-warnings\n",
      "  warnings.warn(\n",
      "C:\\Users\\liyenga\\AppData\\Local\\Packages\\PythonSoftwareFoundation.Python.3.11_qbz5n2kfra8p0\\LocalCache\\local-packages\\Python311\\site-packages\\urllib3\\connectionpool.py:1064: InsecureRequestWarning: Unverified HTTPS request is being made to host '105103-veritiv-prod.s3.amazonaws.com'. Adding certificate verification is strongly advised. See: https://urllib3.readthedocs.io/en/1.26.x/advanced-usage.html#ssl-warnings\n",
      "  warnings.warn(\n",
      "C:\\Users\\liyenga\\AppData\\Local\\Packages\\PythonSoftwareFoundation.Python.3.11_qbz5n2kfra8p0\\LocalCache\\local-packages\\Python311\\site-packages\\urllib3\\connectionpool.py:1064: InsecureRequestWarning: Unverified HTTPS request is being made to host '105103-veritiv-prod.s3.amazonaws.com'. Adding certificate verification is strongly advised. See: https://urllib3.readthedocs.io/en/1.26.x/advanced-usage.html#ssl-warnings\n",
      "  warnings.warn(\n",
      "C:\\Users\\liyenga\\AppData\\Local\\Packages\\PythonSoftwareFoundation.Python.3.11_qbz5n2kfra8p0\\LocalCache\\local-packages\\Python311\\site-packages\\urllib3\\connectionpool.py:1064: InsecureRequestWarning: Unverified HTTPS request is being made to host '105103-veritiv-prod.s3.amazonaws.com'. Adding certificate verification is strongly advised. See: https://urllib3.readthedocs.io/en/1.26.x/advanced-usage.html#ssl-warnings\n",
      "  warnings.warn(\n",
      "C:\\Users\\liyenga\\AppData\\Local\\Packages\\PythonSoftwareFoundation.Python.3.11_qbz5n2kfra8p0\\LocalCache\\local-packages\\Python311\\site-packages\\urllib3\\connectionpool.py:1064: InsecureRequestWarning: Unverified HTTPS request is being made to host '105103-veritiv-prod.s3.amazonaws.com'. Adding certificate verification is strongly advised. See: https://urllib3.readthedocs.io/en/1.26.x/advanced-usage.html#ssl-warnings\n",
      "  warnings.warn(\n",
      "C:\\Users\\liyenga\\AppData\\Local\\Packages\\PythonSoftwareFoundation.Python.3.11_qbz5n2kfra8p0\\LocalCache\\local-packages\\Python311\\site-packages\\urllib3\\connectionpool.py:1064: InsecureRequestWarning: Unverified HTTPS request is being made to host '105103-veritiv-prod.s3.amazonaws.com'. Adding certificate verification is strongly advised. See: https://urllib3.readthedocs.io/en/1.26.x/advanced-usage.html#ssl-warnings\n",
      "  warnings.warn(\n",
      "C:\\Users\\liyenga\\AppData\\Local\\Packages\\PythonSoftwareFoundation.Python.3.11_qbz5n2kfra8p0\\LocalCache\\local-packages\\Python311\\site-packages\\urllib3\\connectionpool.py:1064: InsecureRequestWarning: Unverified HTTPS request is being made to host '105103-veritiv-prod.s3.amazonaws.com'. Adding certificate verification is strongly advised. See: https://urllib3.readthedocs.io/en/1.26.x/advanced-usage.html#ssl-warnings\n",
      "  warnings.warn(\n"
     ]
    }
   ],
   "source": [
    "import pandas as pd\n",
    "from img_desc_functions import blip_call\n",
    "pack_results = blip_call(sample_ove,sam_tit_ove)\n",
    "\n",
    "df1 = pd.DataFrame({\n",
    "    'Image': sample_ove,\n",
    "    'Title': sam_tit_ove,\n",
    "    'Description Blip': pack_results\n",
    "})"
   ]
  },
  {
   "cell_type": "code",
   "execution_count": null,
   "metadata": {},
   "outputs": [],
   "source": []
  }
 ],
 "metadata": {
  "kernelspec": {
   "display_name": "Python 3",
   "language": "python",
   "name": "python3"
  },
  "language_info": {
   "codemirror_mode": {
    "name": "ipython",
    "version": 3
   },
   "file_extension": ".py",
   "mimetype": "text/x-python",
   "name": "python",
   "nbconvert_exporter": "python",
   "pygments_lexer": "ipython3",
   "version": "3.11.9"
  }
 },
 "nbformat": 4,
 "nbformat_minor": 2
}
